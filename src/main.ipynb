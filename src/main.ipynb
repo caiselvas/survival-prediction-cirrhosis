{
 "cells": [
  {
   "cell_type": "markdown",
   "metadata": {},
   "source": [
    "# **IAA - PRÀCTICA: MAIN**"
   ]
  },
  {
   "cell_type": "markdown",
   "metadata": {},
   "source": [
    "### **Instal·lar llibreries necessàries**"
   ]
  },
  {
   "cell_type": "code",
   "execution_count": null,
   "metadata": {},
   "outputs": [],
   "source": [
    "%pip install -r ../assets/requirements.txt "
   ]
  },
  {
   "cell_type": "markdown",
   "metadata": {},
   "source": [
    "### **Importar llibreries**"
   ]
  },
  {
   "cell_type": "code",
   "execution_count": null,
   "metadata": {},
   "outputs": [],
   "source": [
    "import pandas as pd\n",
    "import numpy as np\n",
    "import matplotlib.pyplot as plt\n",
    "import seaborn as sns\n",
    "import sklearn as skl"
   ]
  },
  {
   "cell_type": "markdown",
   "metadata": {},
   "source": [
    "### **Llegir les dades (Cirrhosis Dataset)**"
   ]
  },
  {
   "cell_type": "code",
   "execution_count": null,
   "metadata": {},
   "outputs": [],
   "source": [
    "def load_dataset(save_to_csv: bool = True):\n",
    "\tglobal data\n",
    "\tfrom ucimlrepo import fetch_ucirepo \n",
    "\t\n",
    "\t# Fetch dataset\n",
    "\tcirrhosis_patient_survival_prediction = fetch_ucirepo(id=878)\n",
    "\n",
    "\tdata = pd.DataFrame(cirrhosis_patient_survival_prediction.data.original)\n",
    "\n",
    "\tif save_to_csv:\n",
    "\t\t# Guardem el dataset per poder-lo visualitzar sencer\n",
    "\t\tdata.to_csv('../assets/data/raw_cirrhosis.csv')\n",
    "\n",
    "load_dataset(save_to_csv=True)"
   ]
  },
  {
   "cell_type": "markdown",
   "metadata": {},
   "source": [
    "### **Informació del dataset inicial**"
   ]
  },
  {
   "cell_type": "code",
   "execution_count": null,
   "metadata": {},
   "outputs": [],
   "source": [
    "data.shape"
   ]
  },
  {
   "cell_type": "code",
   "execution_count": null,
   "metadata": {},
   "outputs": [],
   "source": [
    "data.head(-10)"
   ]
  },
  {
   "cell_type": "code",
   "execution_count": null,
   "metadata": {},
   "outputs": [],
   "source": [
    "data.info()"
   ]
  },
  {
   "cell_type": "markdown",
   "metadata": {},
   "source": [
    "### **Preprocessing inicial**"
   ]
  },
  {
   "cell_type": "code",
   "execution_count": null,
   "metadata": {},
   "outputs": [],
   "source": [
    "def initial_preprocessing(data: pd.DataFrame, save_to_csv: bool = True):\n",
    "\t\"\"\"\n",
    "\tReemplaça els valors 'NaNN' per NaN, assigna els tipus de dades correctes a cada columna i renombra les classes d'algunes variables per una millor comprensió.\n",
    "\t\"\"\"\n",
    "\t# Reemplaçar l'string 'NaNN' per NaN\n",
    "\tdata.replace(to_replace=['NaNN', '', pd.NA], value=np.nan, inplace=True)\n",
    "\n",
    "\t# Assignem els tipus de dades correctes a cada columna\n",
    "\tint64_variables = ['N_Days', 'Age', 'Cholesterol', 'Copper', 'Tryglicerides', 'Platelets']\n",
    "\tfloat64_variables = ['Bilirubin', 'Albumin', 'Alk_Phos', 'SGOT', 'Prothrombin']\n",
    "\tcategory_variables = ['ID', 'Status', 'Drug', 'Sex', 'Ascites', 'Hepatomegaly', 'Spiders', 'Edema', 'Stage']\n",
    "\n",
    "\tdata[int64_variables] = data[int64_variables].astype('Int64')\n",
    "\tdata[float64_variables] = data[float64_variables].astype('float64')\n",
    "\tdata[category_variables] = data[category_variables].astype('category')\n",
    "\n",
    "\t# Renombrem les classes d'algunes variables per una millor comprensió\n",
    "\tdata['Status'] = data['Status'].replace({'D': 'Dead', 'C': 'Alive', 'CL': 'Liver Transplant'})\n",
    "\n",
    "\tif save_to_csv:\n",
    "\t\t# Guardem el dataset\n",
    "\t\tdata.to_csv('../assets/data/initial_preprocessing_cirrhosis.csv')\n",
    "\n",
    "initial_preprocessing(data=data, save_to_csv=True)"
   ]
  },
  {
   "cell_type": "code",
   "execution_count": null,
   "metadata": {},
   "outputs": [],
   "source": [
    "data.head(-10)"
   ]
  },
  {
   "cell_type": "markdown",
   "metadata": {},
   "source": [
    "### **Anàlisis de les variables**"
   ]
  },
  {
   "cell_type": "code",
   "execution_count": null,
   "metadata": {},
   "outputs": [],
   "source": [
    "data.head(-10)"
   ]
  },
  {
   "cell_type": "code",
   "execution_count": null,
   "metadata": {},
   "outputs": [],
   "source": [
    "data.isna().sum().sort_values(ascending=False)"
   ]
  },
  {
   "cell_type": "code",
   "execution_count": null,
   "metadata": {},
   "outputs": [],
   "source": [
    "# Estudi de les variables numèriques\n",
    "data.describe()"
   ]
  },
  {
   "cell_type": "code",
   "execution_count": null,
   "metadata": {},
   "outputs": [],
   "source": [
    "# Estadístiques de les variables categòriques\n",
    "data.describe(include='category')"
   ]
  },
  {
   "cell_type": "code",
   "execution_count": null,
   "metadata": {},
   "outputs": [],
   "source": [
    "def numerical_vars_histograms(data: pd.DataFrame):\n",
    "    # Visualització de les distribucions de les variables numèriques en una sola figura\n",
    "    numerical_columns = data.select_dtypes(include=['Int64', 'float64']).columns\n",
    "\n",
    "    num_rows = int(np.ceil(len(numerical_columns) / 2))\n",
    "\n",
    "    fig = plt.figure(figsize=(10, num_rows * 4))\n",
    "\n",
    "    for i, col in enumerate(numerical_columns):\n",
    "        ax = fig.add_subplot(num_rows, 2, i + 1)\n",
    "        \n",
    "        sns.histplot(data[col], edgecolor=\"k\", linewidth=1.5, kde=True)\n",
    "        \n",
    "        plt.xticks(rotation=45, ha='right')\n",
    "        \n",
    "        ax.set_title(f'Distribució de la variable numèrica {col}')\n",
    "        ax.set_xlabel(col)\n",
    "        ax.set_ylabel('Freqüència')\n",
    "\n",
    "    plt.tight_layout()\n",
    "    plt.show()\n",
    "\n",
    "numerical_vars_histograms(data=data)"
   ]
  },
  {
   "cell_type": "code",
   "execution_count": null,
   "metadata": {},
   "outputs": [],
   "source": [
    "def categorical_vars_countplots(data: pd.DataFrame):\n",
    "    \"\"\"\n",
    "    Visualització de les distribucions de les variables categòriques en una sola figura (menys ID).\n",
    "    \"\"\"\n",
    "    # Visualització de les distribucions de les variables categòriques en una sola figura (menys ID)\n",
    "    categorical_columns = data.select_dtypes(include=['category']).columns.drop(['ID'])\n",
    "    num_rows = int(np.ceil(len(categorical_columns) / 2))\n",
    "\n",
    "    fig = plt.figure(figsize=(10, num_rows * 4))\n",
    "\n",
    "    for i, col in enumerate(categorical_columns):\n",
    "        ax = fig.add_subplot(num_rows, 2, i + 1)\n",
    "        \n",
    "        sns.countplot(data=data, x=col, ax=ax, hue=col, legend=False)\n",
    "        \n",
    "        plt.xticks(rotation=45, ha='right')\n",
    "        \n",
    "        ax.set_title(f'Distribució de la variable categòrica {col}')\n",
    "        ax.set_xlabel(col)\n",
    "        ax.set_ylabel('Quantitat')\n",
    "\n",
    "    plt.tight_layout()\n",
    "    plt.show()\n",
    "\n",
    "categorical_vars_countplots(data=data)"
   ]
  },
  {
   "cell_type": "markdown",
   "metadata": {},
   "source": [
    "### **Tractament d'outliers**"
   ]
  },
  {
   "cell_type": "code",
   "execution_count": null,
   "metadata": {},
   "outputs": [],
   "source": [
    "def compare_iqr_factors(data: pd.DataFrame, factors: list = [1.5, 2, 2.5, 3, 3.5, 4, 4.5, 5]):\n",
    "\t\"\"\"\n",
    "\tCompara diferents factors que multipliquen al IQR per a determinar els outliers i realitza un gràfic evolutiu per comparar-los.\n",
    "\t\"\"\"\n",
    "\tnumerical_columns = data.select_dtypes(include=['Int64', 'float64']).columns\n",
    "\n",
    "\tplt.figure(figsize=(10, 6))\n",
    "\n",
    "\t# Dictionary to store outlier percentages for each factor and column\n",
    "\toutlier_percentages = {col: [] for col in numerical_columns}\n",
    "\ttotal_percentages = [set() for _ in range(len(factors))]\n",
    "\n",
    "\tfor col in numerical_columns:\n",
    "\t\tQ1 = data[col].quantile(0.25)\n",
    "\t\tQ3 = data[col].quantile(0.75)\n",
    "\t\tIQR = Q3 - Q1\n",
    "\n",
    "\t\tfor f_id, factor in enumerate(factors):\n",
    "\t\t\toutliers_mask = ((data[col] < (Q1 - factor * IQR)) | (data[col] > (Q3 + factor * IQR)))\n",
    "\t\t\ttotal_percentages[f_id].update(data.index[outliers_mask])\n",
    "\t\t\toutliers_percentage = np.mean(outliers_mask) * 100\n",
    "\t\t\toutlier_percentages[col].append(outliers_percentage)\n",
    "\n",
    "\ttotal_percentages = [(len(outliers) / len(data)) * 100 for outliers in total_percentages]\n",
    "\t\t\t\n",
    "\t# Plotting the results\n",
    "\tfor col, percentages in outlier_percentages.items():\n",
    "\t\tplt.plot(factors, percentages, label=col)\n",
    "\t\n",
    "\tplt.plot(factors, total_percentages, label='Total', linestyle='--', color='black')\n",
    "\tplt.xlabel('Factor multiplicatiu del IQR')\n",
    "\tplt.ylabel('Percentage d\\'outliers (%)')\n",
    "\tplt.title('Percentatge d\\'outliers de cada variable numèrica per a diferents factors multiplicatius del IQR')\n",
    "\tplt.legend()\n",
    "\tplt.grid(True)\n",
    "\tplt.show()\n",
    "\n",
    "compare_iqr_factors(data=data, factors=[1.5, 2, 2.5, 3, 3.5, 4, 4.5, 5])"
   ]
  },
  {
   "cell_type": "code",
   "execution_count": null,
   "metadata": {},
   "outputs": [],
   "source": [
    "def delete_outliers(data: pd.DataFrame, factor: float = 1.5, plots: bool = True):\n",
    "    \"\"\"\n",
    "    Funció que detecta, visualitza i elimina els outliers d'un dataset. El factor multiplica el IQR per a determinar quins valors són outliers.\n",
    "    \"\"\"\n",
    "    # Detecció, visualització i eliminació d'outliers\n",
    "    numerical_columns = data.select_dtypes(include=['Int64', 'float64']).columns\n",
    "\n",
    "    outliers_indices = []\n",
    "\n",
    "    for col in numerical_columns:\n",
    "        Q1 = data[col].quantile(0.25)\n",
    "        Q3 = data[col].quantile(0.75)\n",
    "        IQR = Q3 - Q1\n",
    "        outliers_mask = ((data[col] < (Q1 - factor * IQR)) | (data[col] > (Q3 + factor * IQR)))\n",
    "        outliers = data[col][outliers_mask]\n",
    "        non_outliers = data[col][~outliers_mask]\n",
    "\n",
    "        outliers_indices.extend(data[col][outliers_mask].index.tolist())\n",
    "        \n",
    "        if plots:\n",
    "            fig, axes = plt.subplots(1, 2, figsize=(8, 5))\n",
    "\n",
    "            # Boxplot amb els outliers originals\n",
    "            sns.boxplot(ax=axes[0], y=data[col], orient='v')\n",
    "            axes[0].scatter(x=[0]*len(outliers), y=outliers, color='red', marker='o')\n",
    "            axes[0].set_title(f'Boxplot de {col} amb outliers ({factor}x IQR)')\n",
    "            \n",
    "            percent_outliers = len(outliers) / data.shape[0] * 100\n",
    "            axes[0].text(0.5, -0.1, f'Outliers ({factor}x IQR): {len(outliers)} ({percent_outliers:.2f}%)', \n",
    "                        ha='center', va='center', transform=axes[0].transAxes)\n",
    "            # Boxplot sense els outliers\n",
    "            sns.boxplot(ax=axes[1], y=non_outliers, orient='v')\n",
    "            axes[1].set_title(f'Boxplot de {col} sense outliers')\n",
    "\n",
    "            plt.tight_layout()\n",
    "            plt.show()\n",
    "\n",
    "    unique_outliers = len(set(outliers_indices))\n",
    "    print(f\"Nombre total d'outliers únics eliminats: {unique_outliers} ({unique_outliers / data.shape[0] * 100:.2f}% de tot el dataset)\")\n",
    "\n",
    "    # Eliminació d'outliers\n",
    "    data = data.drop(list(set(outliers_indices)))\n",
    "\n",
    "delete_outliers(data=data, factor=3, plots=True)"
   ]
  },
  {
   "cell_type": "markdown",
   "metadata": {},
   "source": [
    "### **Recodificació de variables**"
   ]
  },
  {
   "cell_type": "code",
   "execution_count": null,
   "metadata": {},
   "outputs": [],
   "source": [
    "def encode_variables(data: pd.DataFrame, save_to_csv: bool = True):\n",
    "\t\"\"\"\n",
    "\tCodifica les variables categòriques per a poder-les utilitzar en els models de ML.\n",
    "\t\"\"\"\n",
    "\t# Codificació de les variables categòriques\n",
    "\tfrom sklearn.preprocessing import LabelEncoder\n",
    "\n",
    "\tle = LabelEncoder()\n",
    "\n",
    "\tcategorical_columns = data.select_dtypes(include=['category']).columns\n",
    "\n",
    "\tfor col in categorical_columns:\n",
    "\t\tdata[col] = le.fit_transform(data[col])\n",
    "\n",
    "\tif save_to_csv:\n",
    "\t\t# Guardem el dataset\n",
    "\t\tdata.to_csv('../assets/data/encoded_cirrhosis.csv')"
   ]
  },
  {
   "cell_type": "markdown",
   "metadata": {},
   "source": [
    "### **Partició del dataset en train/test**"
   ]
  },
  {
   "cell_type": "code",
   "execution_count": 29,
   "metadata": {},
   "outputs": [
    {
     "name": "stdout",
     "output_type": "stream",
     "text": [
      "Train: (355, 20)\n",
      "Test: (63, 20)\n",
      "Status\n",
      "Alive               202\n",
      "Dead                132\n",
      "Liver Transplant     21\n",
      "Name: count, dtype: int64\n"
     ]
    }
   ],
   "source": [
    "def split_dataset(data: pd.DataFrame, test_size: float = 0.15, random_state: int = 42):\n",
    "\t\"\"\"\n",
    "\tParticiona el dataset en train i test.\n",
    "\t\"\"\"\n",
    "\tglobal X_train, y_train, test\n",
    "\n",
    "\tfrom sklearn.model_selection import train_test_split\n",
    "\n",
    "\ttrain, test = train_test_split(data, test_size=test_size, random_state=random_state)\n",
    "\n",
    "\tprint(f\"Train: {train.shape}\")\n",
    "\tprint(f\"Test: {test.shape}\")\n",
    "\n",
    "\t# 'Status' és la variable target\n",
    "\tX_train = train.drop(columns=['Status'])\n",
    "\ty_train = train['Status']\n",
    "\n",
    "split_dataset(data=data, test_size=0.15, random_state=42)"
   ]
  },
  {
   "cell_type": "markdown",
   "metadata": {},
   "source": [
    "### **Imputar els valors faltants (Missings)**"
   ]
  },
  {
   "cell_type": "code",
   "execution_count": null,
   "metadata": {},
   "outputs": [],
   "source": [
    "def impute_missings(data: pd.DataFrame, save_to_csv: bool = True):\n",
    "    from sklearn.impute import KNNImputer\n",
    "    from sklearn.preprocessing import OneHotEncoder\n",
    "    from sklearn.compose import ColumnTransformer\n",
    "\n",
    "    categorical_columns = data.select_dtypes(include=['category']).columns.drop(['ID'])\n",
    "\n",
    "    # Creación del transformador para la codificación One-Hot\n",
    "    one_hot_encoder = ColumnTransformer(\n",
    "        transformers=[\n",
    "            ('cat', OneHotEncoder(handle_unknown='ignore'), categorical_columns)\n",
    "        ],\n",
    "        remainder='passthrough'\n",
    "    )\n",
    "\n",
    "    # Aplicación de la codificación One-Hot\n",
    "    data_encoded = one_hot_encoder.fit_transform(data)\n",
    "\n",
    "    # Creación del imputador KNN\n",
    "    knn_imputer = KNNImputer(n_neighbors=5)\n",
    "\n",
    "    # Imputación de los datos codificados\n",
    "    data_imputed = knn_imputer.fit_transform(data_encoded)\n",
    "\n",
    "    # Convirtiendo de nuevo a un DataFrame de pandas (opcional, dependiendo de cómo necesites usar los datos)\n",
    "    # Nota: La conversión de nuevo a DataFrame requiere asignar nombres a las columnas\n",
    "    # Esto puede ser complejo debido a la codificación One-Hot\n",
    "    data_imputed_df = pd.DataFrame(data_imputed)\n",
    "\n",
    "    # Mostrando las primeras filas de los datos imputados\n",
    "    data_imputed_df.head()\n",
    "\n",
    "    if save_to_csv:\n",
    "        # Guardem el dataset\n",
    "        data_imputed_df.to_csv('../assets/data/imputed_cirrhosis.csv')\n"
   ]
  },
  {
   "cell_type": "code",
   "execution_count": null,
   "metadata": {},
   "outputs": [],
   "source": [
    "from sklearn.impute import SimpleImputer\n",
    "num_columns = X_train.select_dtypes(include=['float64', 'int64']).columns\n",
    "cat_columns = X_train.select_dtypes(include=['object']).columns\n",
    "imputer_num = SimpleImputer(strategy='median')\n",
    "imputer_cat = SimpleImputer(strategy='most_frequent')\n",
    "X_train[num_columns] = imputer_num.fit_transform(X_train[num_columns])\n",
    "X_train[cat_columns] = imputer_cat.fit_transform(X_train[cat_columns])\n",
    "X_test[num_columns] = imputer_num.transform(X_test[num_columns])\n",
    "X_test[cat_columns] = imputer_cat.transform(X_test[cat_columns])\n",
    "\n",
    "# Codificación one-hot de variables categóricas\n",
    "from sklearn.preprocessing import OneHotEncoder\n",
    "encoder = OneHotEncoder(sparse=False, handle_unknown='ignore')\n",
    "X_train_encoded = pd.DataFrame(encoder.fit_transform(X_train[cat_columns]))\n",
    "X_train_encoded.columns = encoder.get_feature_names_out(cat_columns)\n",
    "X_train = X_train.drop(cat_columns, axis=1)\n",
    "X_train = pd.concat([X_train, X_train_encoded], axis=1)\n",
    "X_test_encoded = pd.DataFrame(encoder.transform(X_test[cat_columns]))\n",
    "X_test_encoded.columns = encoder.get_feature_names_out(cat_columns)\n",
    "X_test = X_test.drop(cat_columns, axis=1)\n",
    "X_test = pd.concat([X_test, X_test_encoded], axis=1)"
   ]
  },
  {
   "cell_type": "markdown",
   "metadata": {},
   "source": [
    "**1r Model: K-Nearest Neighbors (KNN)**"
   ]
  },
  {
   "cell_type": "code",
   "execution_count": null,
   "metadata": {},
   "outputs": [],
   "source": []
  },
  {
   "cell_type": "markdown",
   "metadata": {},
   "source": [
    "**2n Model: Decision Tree**"
   ]
  },
  {
   "cell_type": "code",
   "execution_count": null,
   "metadata": {},
   "outputs": [],
   "source": []
  },
  {
   "cell_type": "markdown",
   "metadata": {},
   "source": [
    "**3r Model: Support Vector Machine (SVM)**"
   ]
  },
  {
   "cell_type": "code",
   "execution_count": null,
   "metadata": {},
   "outputs": [],
   "source": []
  }
 ],
 "metadata": {
  "kernelspec": {
   "display_name": "Python 3",
   "language": "python",
   "name": "python3"
  },
  "language_info": {
   "codemirror_mode": {
    "name": "ipython",
    "version": 3
   },
   "file_extension": ".py",
   "mimetype": "text/x-python",
   "name": "python",
   "nbconvert_exporter": "python",
   "pygments_lexer": "ipython3",
   "version": "3.11.2"
  },
  "orig_nbformat": 4
 },
 "nbformat": 4,
 "nbformat_minor": 2
}
